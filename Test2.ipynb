{
 "cells": [
  {
   "cell_type": "code",
   "id": "initial_id",
   "metadata": {
    "collapsed": true,
    "ExecuteTime": {
     "end_time": "2024-08-29T18:34:21.465578Z",
     "start_time": "2024-08-29T18:34:12.606686Z"
    }
   },
   "source": [
    "import os\n",
    "import librosa\n",
    "import numpy as np\n",
    "import resampy\n",
    "\n",
    "def extract_features(file_name):\n",
    "    audio, sample_rate = librosa.load(file_name, res_type='kaiser_fast')\n",
    "    mfccs = librosa.feature.mfcc(y=audio, sr=sample_rate, n_mfcc=40)\n",
    "    mfccs_scaled = np.mean(mfccs.T, axis=0)\n",
    "    return mfccs_scaled\n",
    "\n",
    "def load_data(data_dir):\n",
    "    features = []\n",
    "    labels = []\n",
    "    \n",
    "    for folder in ['lowSpeed', 'HighSpeed', 'Abnormal']:\n",
    "        folder_path = os.path.join(data_dir, folder)\n",
    "        for file in os.listdir(folder_path):\n",
    "            file_path = os.path.join(folder_path, file)\n",
    "            data = extract_features(file_path)\n",
    "            features.append(data)\n",
    "            labels.append(folder)\n",
    "    \n",
    "    return np.array(features), np.array(labels)\n",
    "\n",
    "data_dir = './dataset/'\n",
    "X, y = load_data(data_dir)\n"
   ],
   "outputs": [],
   "execution_count": 1
  },
  {
   "metadata": {
    "ExecuteTime": {
     "end_time": "2024-08-29T18:34:21.802638Z",
     "start_time": "2024-08-29T18:34:21.486307Z"
    }
   },
   "cell_type": "code",
   "source": [
    "from sklearn.model_selection import train_test_split\n",
    "from sklearn.ensemble import RandomForestClassifier\n",
    "from sklearn.metrics import classification_report\n",
    "\n",
    "# Split the data into training and testing sets\n",
    "X_train, X_test, y_train, y_test = train_test_split(X, y, test_size=0.2, random_state=42)\n",
    "\n",
    "# Train a Random Forest Classifier\n",
    "clf = RandomForestClassifier(n_estimators=100, random_state=42)\n",
    "clf.fit(X_train, y_train)\n",
    "\n",
    "# Evaluate the model\n",
    "y_pred = clf.predict(X_test)\n",
    "print(classification_report(y_test, y_pred))\n"
   ],
   "id": "5aae392f61dbb0a6",
   "outputs": [
    {
     "name": "stdout",
     "output_type": "stream",
     "text": [
      "              precision    recall  f1-score   support\n",
      "\n",
      "    Abnormal       1.00      1.00      1.00         2\n",
      "   HighSpeed       1.00      1.00      1.00         2\n",
      "    lowSpeed       1.00      1.00      1.00         2\n",
      "\n",
      "    accuracy                           1.00         6\n",
      "   macro avg       1.00      1.00      1.00         6\n",
      "weighted avg       1.00      1.00      1.00         6\n",
      "\n"
     ]
    }
   ],
   "execution_count": 2
  },
  {
   "metadata": {
    "ExecuteTime": {
     "end_time": "2024-08-29T18:36:29.476413Z",
     "start_time": "2024-08-29T18:34:21.882548Z"
    }
   },
   "cell_type": "code",
   "source": [
    "import sounddevice as sd\n",
    "from matplotlib import pyplot as plt\n",
    "\n",
    "def predict_live_sound(model, duration=5, sample_rate=22050):\n",
    "    print(\"Recording...\")\n",
    "    recording = sd.rec(int(duration * sample_rate), samplerate=sample_rate, channels=1)\n",
    "    # Plot the waveform\n",
    "    sd.wait()\n",
    "    \n",
    "    print(\"Recording complete.\")\n",
    "    # plt.figure(figsize=(10, 4))\n",
    "    # plt.plot(recording)\n",
    "    # plt.title(\"Live Audio Waveform\")\n",
    "    # plt.xlabel(\"Time\")\n",
    "    # plt.ylabel(\"Amplitude\")\n",
    "    # plt.show(block=False)\n",
    "    # plt.pause(0.1)  # Adjust this if the plot does not update properly\n",
    "    # plt.close()\n",
    "    # Extract features from the recorded audio\n",
    "    mfccs = librosa.feature.mfcc(y=recording.flatten(), sr=sample_rate, n_mfcc=40)\n",
    "    mfccs_scaled = np.mean(mfccs.T, axis=0)\n",
    "    mfccs_scaled = mfccs_scaled.reshape(1, -1)\n",
    "    \n",
    "    # Predict the class\n",
    "    prediction = model.predict(mfccs_scaled)\n",
    "    print(\"Predicted class:\", prediction[0])\n",
    "\n",
    "# Example usage\n",
    "\n",
    "try:\n",
    "    while True:\n",
    "        predict_live_sound(clf)\n",
    "except KeyboardInterrupt:\n",
    "    print(\"Stopped by user.\")\n"
   ],
   "id": "9275a627ab23c51c",
   "outputs": [
    {
     "name": "stdout",
     "output_type": "stream",
     "text": [
      "Recording...\n",
      "Recording complete.\n",
      "Predicted class: lowSpeed\n",
      "Recording...\n",
      "Recording complete.\n",
      "Predicted class: HighSpeed\n",
      "Recording...\n",
      "Recording complete.\n",
      "Predicted class: lowSpeed\n",
      "Recording...\n",
      "Recording complete.\n",
      "Predicted class: lowSpeed\n",
      "Recording...\n",
      "Stopped by user.\n"
     ]
    }
   ],
   "execution_count": 3
  }
 ],
 "metadata": {
  "kernelspec": {
   "display_name": "Python 3",
   "language": "python",
   "name": "python3"
  },
  "language_info": {
   "codemirror_mode": {
    "name": "ipython",
    "version": 2
   },
   "file_extension": ".py",
   "mimetype": "text/x-python",
   "name": "python",
   "nbconvert_exporter": "python",
   "pygments_lexer": "ipython2",
   "version": "2.7.6"
  }
 },
 "nbformat": 4,
 "nbformat_minor": 5
}
